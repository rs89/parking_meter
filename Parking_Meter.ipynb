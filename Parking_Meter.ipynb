{
  "nbformat": 4,
  "nbformat_minor": 0,
  "metadata": {
    "colab": {
      "name": "Parking Meter.ipynb",
      "provenance": [],
      "collapsed_sections": [
        "ko2ggkiBHsOr",
        "hbZc6vIFHngC",
        "Yp5wUbXHHLWL"
      ],
      "authorship_tag": "ABX9TyNNiut0JSU0e2Aibp8iXFB9",
      "include_colab_link": true
    },
    "kernelspec": {
      "name": "python3",
      "display_name": "Python 3"
    },
    "widgets": {
      "application/vnd.jupyter.widget-state+json": {
        "3431296b355a4929b7ab29fec8aec391": {
          "model_module": "@jupyter-widgets/controls",
          "model_name": "FloatSliderModel",
          "state": {
            "_view_name": "FloatSliderView",
            "style": "IPY_MODEL_9eeefd3d38954b51abf399d777b3ff4c",
            "_dom_classes": [],
            "description": "Length of stay (hrs):",
            "step": 0.1,
            "_model_name": "FloatSliderModel",
            "orientation": "horizontal",
            "max": 24,
            "_view_module": "@jupyter-widgets/controls",
            "_model_module_version": "1.5.0",
            "value": 15.4,
            "_view_count": null,
            "disabled": false,
            "_view_module_version": "1.5.0",
            "min": 0,
            "continuous_update": false,
            "readout_format": ".1f",
            "description_tooltip": null,
            "readout": true,
            "_model_module": "@jupyter-widgets/controls",
            "layout": "IPY_MODEL_4c8aa5439d8045ddbffb18872dfe3a8a"
          }
        },
        "9eeefd3d38954b51abf399d777b3ff4c": {
          "model_module": "@jupyter-widgets/controls",
          "model_name": "SliderStyleModel",
          "state": {
            "_view_name": "StyleView",
            "handle_color": null,
            "_model_name": "SliderStyleModel",
            "description_width": "",
            "_view_module": "@jupyter-widgets/base",
            "_model_module_version": "1.5.0",
            "_view_count": null,
            "_view_module_version": "1.2.0",
            "_model_module": "@jupyter-widgets/controls"
          }
        },
        "4c8aa5439d8045ddbffb18872dfe3a8a": {
          "model_module": "@jupyter-widgets/base",
          "model_name": "LayoutModel",
          "state": {
            "_view_name": "LayoutView",
            "grid_template_rows": null,
            "right": null,
            "justify_content": null,
            "_view_module": "@jupyter-widgets/base",
            "overflow": null,
            "_model_module_version": "1.2.0",
            "_view_count": null,
            "flex_flow": null,
            "width": null,
            "min_width": null,
            "border": null,
            "align_items": null,
            "bottom": null,
            "_model_module": "@jupyter-widgets/base",
            "top": null,
            "grid_column": null,
            "overflow_y": null,
            "overflow_x": null,
            "grid_auto_flow": null,
            "grid_area": null,
            "grid_template_columns": null,
            "flex": null,
            "_model_name": "LayoutModel",
            "justify_items": null,
            "grid_row": null,
            "max_height": null,
            "align_content": null,
            "visibility": null,
            "align_self": null,
            "height": null,
            "min_height": null,
            "padding": null,
            "grid_auto_rows": null,
            "grid_gap": null,
            "max_width": null,
            "order": null,
            "_view_module_version": "1.2.0",
            "grid_template_areas": null,
            "object_position": null,
            "object_fit": null,
            "grid_auto_columns": null,
            "margin": null,
            "display": null,
            "left": null
          }
        }
      }
    }
  },
  "cells": [
    {
      "cell_type": "markdown",
      "metadata": {
        "id": "view-in-github",
        "colab_type": "text"
      },
      "source": [
        "<a href=\"https://colab.research.google.com/github/rs89/parking_meter/blob/main/Parking_Meter.ipynb\" target=\"_parent\"><img src=\"https://colab.research.google.com/assets/colab-badge.svg\" alt=\"Open In Colab\"/></a>"
      ]
    },
    {
      "cell_type": "markdown",
      "metadata": {
        "id": "QD4PHMV-nX_1"
      },
      "source": [
        "# Leave the Parking Meter Expired\r\n",
        ">How much $ should I put in a parking meter?\r\n",
        "\r\n",
        "Never the full-time. Let's get more precise.\r\n"
      ]
    },
    {
      "cell_type": "markdown",
      "metadata": {
        "id": "S8d-M4nzoPqc"
      },
      "source": [
        "When you weigh the decision of paying a parking meter, you are doing mental math to determine if and how much you should purchase.\r\n",
        "\r\n",
        "> What if I'm just going to run in and be back in 5 minutes?\r\n",
        "\r\n",
        "You don't pay the meter, and unless you're especially unlucky, a short stay rarely realizes a parking ticket. But it does happen!\r\n"
      ]
    },
    {
      "cell_type": "markdown",
      "metadata": {
        "id": "kV5w_SILpk6G"
      },
      "source": [
        "In deciding how much time to purchase, your mental math is considering 4 factors:\r\n",
        "1. How long you plan to stay\r\n",
        "2. How often parking officers patrol the area\r\n",
        "3. How much a parking ticket costs\r\n",
        "4. How much it will cost to park"
      ]
    },
    {
      "cell_type": "markdown",
      "metadata": {
        "id": "1HCKdtKxqMF0"
      },
      "source": [
        "What I want to do is create a pricing model to calculate expected cost based the variables above. We will use this to find the **price point with the lowest expected cost**."
      ]
    },
    {
      "cell_type": "markdown",
      "metadata": {
        "id": "PuwVT54JpWYe"
      },
      "source": [
        "## Parking Officers"
      ]
    },
    {
      "cell_type": "markdown",
      "metadata": {
        "id": "gxZ_GucVq0IO"
      },
      "source": [
        "> If we knew exactly the next arrival time for a parking officer, we would consider purchasing enough time such that they pass an unexpired meter.\r\n",
        "\r\n",
        "Sure, but we don't know it exactly. Instead, we have to model that uncertainty.\r\n",
        "\r\n",
        "We model the next arrival time of a parking officer as a Poisson random process. In this case, we want to know the probability that the next officer's visit is within ```survival_time``` hours given the ```patrol_rate```."
      ]
    },
    {
      "cell_type": "code",
      "metadata": {
        "id": "PLT-6HXA1e6P"
      },
      "source": [
        "from scipy.stats import poisson\r\n",
        "import numpy as np\r\n",
        "import matplotlib.pyplot as plt"
      ],
      "execution_count": 1,
      "outputs": []
    },
    {
      "cell_type": "markdown",
      "metadata": {
        "id": "Oh2cpRMk6Fbv"
      },
      "source": [
        ">What's the probability of getting a ticket within ```survival_time``` minutes given an interarrival rate of ```patrol_rate``` hours per visit?"
      ]
    },
    {
      "cell_type": "code",
      "metadata": {
        "colab": {
          "base_uri": "https://localhost:8080/"
        },
        "id": "nY8bERNh6TqZ",
        "outputId": "2a4cb780-395b-466b-d24d-e82c28176c59"
      },
      "source": [
        "patrol_rate = 1 # arrivals per hour\r\n",
        "survival_time = 4 # time (in hrs)\r\n",
        "\r\n",
        "# sf stands for 'survival function' which returns 1 - CDF\r\n",
        "prob = poisson.sf(patrol_rate,survival_time)\r\n",
        "\r\n",
        "print(\"The probability of a ticket at or before hour {} given the arrival rate of {} per hour is {:.1f}%.\".format(survival_time,patrol_rate,prob*100))"
      ],
      "execution_count": 4,
      "outputs": [
        {
          "output_type": "stream",
          "text": [
            "The probability of a ticket at or before hour 4 given the arrival rate of 1 per hour is 90.8%.\n"
          ],
          "name": "stdout"
        }
      ]
    },
    {
      "cell_type": "markdown",
      "metadata": {
        "id": "4admP_d1stfN"
      },
      "source": [
        "### Why Poisson?"
      ]
    },
    {
      "cell_type": "markdown",
      "metadata": {
        "id": "y8WYhrCpsxXC"
      },
      "source": [
        "Poisson has 2 properties which make a good choice for interarrival times.\r\n",
        "1. It's memoryless. The probability of an arrival in the next 5 minutes is the same regardless of what's happened in the past.\r\n",
        "> so if a parking cop just showed up, we're estimating the same chances as if we waited for 5 hours and not one came by?\r\n",
        "\r\n",
        "Yes.\r\n",
        "\r\n",
        "2. The mean = variance. It's built-in.\r\n"
      ]
    },
    {
      "cell_type": "markdown",
      "metadata": {
        "id": "osvv4HFgsGHs"
      },
      "source": [
        "## Parking Costs\r\n",
        "\r\n",
        "We can always choose to purchase time from the parking meter."
      ]
    },
    {
      "cell_type": "markdown",
      "metadata": {
        "id": "jsJJiv8zu0Je"
      },
      "source": [
        "## Creating the Pricing Model"
      ]
    },
    {
      "cell_type": "markdown",
      "metadata": {
        "id": "hSodtD6zAaZy"
      },
      "source": [
        "What's the optimal value for ```purchased_time``` which minimizes expected loss?"
      ]
    },
    {
      "cell_type": "markdown",
      "metadata": {
        "id": "BaTsmeO8u9ll"
      },
      "source": [
        "The following function returns the expected cost *given* a value for `purchased_time`."
      ]
    },
    {
      "cell_type": "code",
      "metadata": {
        "id": "8XOCE6jQAk4b"
      },
      "source": [
        "def get_expected_cost(stay, cop_rate, purchased_time, ticket_cost, parking_rate):\r\n",
        "    '''\r\n",
        "    Returns the expected cost of a parking strategy\r\n",
        "    Inputs:\r\n",
        "    stay - duration of your visit in hours\r\n",
        "    cop_rate - Poisson arrival rate of parking cops\r\n",
        "    purchased_time - how much time you purchase from the parking meter\r\n",
        "    ticket_cost - how much a parking ticket costs\r\n",
        "    parking_cost - how much it costs to park per hours\r\n",
        "    '''\r\n",
        "\r\n",
        "    # calculate expected cost from ticket\r\n",
        "    unpaid_time = stay - purchased_time # assume stay >= purchased time\r\n",
        "    prob_ticket = poisson.sf(cop_rate, unpaid_time)\r\n",
        "    \r\n",
        "    expected_ticket_cost = prob_ticket * ticket_cost\r\n",
        "\r\n",
        "    # calculate (fixed) cost from parking\r\n",
        "    parking_cost = purchased_time * parking_rate\r\n",
        "\r\n",
        "    return expected_ticket_cost + parking_cost\r\n"
      ],
      "execution_count": 5,
      "outputs": []
    },
    {
      "cell_type": "markdown",
      "metadata": {
        "id": "sPBxVFNjv7Y0"
      },
      "source": [
        " I'm sure there's a function to yield the minimum exactly... perhaps in a future version."
      ]
    },
    {
      "cell_type": "markdown",
      "metadata": {
        "id": "6IGBzwsFvZFi"
      },
      "source": [
        "## Testing the pricing function\r\n",
        "Let's validate the function with some intuition..."
      ]
    },
    {
      "cell_type": "markdown",
      "metadata": {
        "id": "k6yc7OYpvjVB"
      },
      "source": [
        "### Secnario 1: Paying the full amount\r\n"
      ]
    },
    {
      "cell_type": "code",
      "metadata": {
        "colab": {
          "base_uri": "https://localhost:8080/"
        },
        "id": "zRBzXX_yAIij",
        "outputId": "c4edfe73-1155-4196-83ab-da7914a49e7e"
      },
      "source": [
        "get_expected_cost(stay=3, cop_rate=1, purchased_time=3, ticket_cost=60, parking_rate=8)"
      ],
      "execution_count": 6,
      "outputs": [
        {
          "output_type": "execute_result",
          "data": {
            "text/plain": [
              "24.0"
            ]
          },
          "metadata": {
            "tags": []
          },
          "execution_count": 6
        }
      ]
    },
    {
      "cell_type": "markdown",
      "metadata": {
        "id": "MxjMbaH6wYiq"
      },
      "source": [
        "If you pay the full amount of your stay, you have a 0% chance of getting a ticket. \r\n",
        "\r\n",
        "So your expected cost should be exactly = to `purchased_time` * `parking_rate` (which it is)."
      ]
    },
    {
      "cell_type": "markdown",
      "metadata": {
        "id": "t1x2f_pww0ED"
      },
      "source": [
        "### Scenario 2: Paying nothing"
      ]
    },
    {
      "cell_type": "code",
      "metadata": {
        "colab": {
          "base_uri": "https://localhost:8080/"
        },
        "id": "TpiW9TK9xDCD",
        "outputId": "4a5e2b02-aa8b-45df-cc70-0c87d775612c"
      },
      "source": [
        "get_expected_cost(stay=3, cop_rate=1, purchased_time=0, ticket_cost=60, parking_rate=8)"
      ],
      "execution_count": 7,
      "outputs": [
        {
          "output_type": "execute_result",
          "data": {
            "text/plain": [
              "48.05110359171265"
            ]
          },
          "metadata": {
            "tags": []
          },
          "execution_count": 7
        }
      ]
    },
    {
      "cell_type": "markdown",
      "metadata": {
        "id": "iARJ5ww6xOGB"
      },
      "source": [
        "If you pay nothing to the meter, then the only expected cost can come from the parking ticket. So it's `ticket_cost` * the probability of a parking officer. \r\n",
        "\r\n",
        "Let's start with the probability of the parking officer -- what are the chances of an arrival within `stay` hours given a mean rate of `cop_rate`."
      ]
    },
    {
      "cell_type": "code",
      "metadata": {
        "colab": {
          "base_uri": "https://localhost:8080/"
        },
        "id": "01ZynD60x3HJ",
        "outputId": "731a1eb8-df35-4f66-b819-05778511bc80"
      },
      "source": [
        "poisson.sf(1,3)"
      ],
      "execution_count": 8,
      "outputs": [
        {
          "output_type": "execute_result",
          "data": {
            "text/plain": [
              "0.8008517265285442"
            ]
          },
          "metadata": {
            "tags": []
          },
          "execution_count": 8
        }
      ]
    },
    {
      "cell_type": "markdown",
      "metadata": {
        "id": "Sm4hiMPhyJCi"
      },
      "source": [
        "About 80% chance she/he will show up."
      ]
    },
    {
      "cell_type": "code",
      "metadata": {
        "colab": {
          "base_uri": "https://localhost:8080/"
        },
        "id": "eDdL6V1eyT-r",
        "outputId": "14a93bf3-9b80-4518-d634-f9b30a471ec5"
      },
      "source": [
        " # assuming ticket cost is $60\r\n",
        " poisson.sf(1,3) * 60"
      ],
      "execution_count": 9,
      "outputs": [
        {
          "output_type": "execute_result",
          "data": {
            "text/plain": [
              "48.05110359171265"
            ]
          },
          "metadata": {
            "tags": []
          },
          "execution_count": 9
        }
      ]
    },
    {
      "cell_type": "markdown",
      "metadata": {
        "id": "EzNyBgQ0w-eW"
      },
      "source": [
        "Here we confirm that the expected result of not paying = cost of the ticket * probability of a parking officer arriving anytime during the `stay`."
      ]
    },
    {
      "cell_type": "markdown",
      "metadata": {
        "id": "Wx7efTgjzC7U"
      },
      "source": [
        "## Finding the Lowest Cost Strategy"
      ]
    },
    {
      "cell_type": "markdown",
      "metadata": {
        "id": "HN4gh48q1wqV"
      },
      "source": [
        "In lieu of a closed form solution, which I'm sure exists, I'm going to evaluate several levels of `purchased_time` between 0 and the total length of `stay`."
      ]
    },
    {
      "cell_type": "code",
      "metadata": {
        "id": "AjmQEWLX6db3"
      },
      "source": [
        "# Problem parameters\r\n",
        "stay = 3 # time (in hrs) you plan on staying\r\n",
        "cop_rate = 1 # arrival rate of parking police (one every x hours)\r\n",
        "ticket_cost = 60 # dollars\r\n",
        "parking_rate = 8 # dollars"
      ],
      "execution_count": 10,
      "outputs": []
    },
    {
      "cell_type": "code",
      "metadata": {
        "id": "2_kEvcN7E11m"
      },
      "source": [
        "# Create trials evenly spaced between 0 and length of stay\r\n",
        "trials = np.linspace(0,stay,num=10000)"
      ],
      "execution_count": 11,
      "outputs": []
    },
    {
      "cell_type": "code",
      "metadata": {
        "id": "o7-39dqIE8Ns"
      },
      "source": [
        "# Calculate the expected cost for each trial\r\n",
        "results = [get_expected_cost(stay=stay, cop_rate=cop_rate, purchased_time=t, ticket_cost=ticket_cost, parking_rate=parking_rate) for t in trials]"
      ],
      "execution_count": 12,
      "outputs": []
    },
    {
      "cell_type": "code",
      "metadata": {
        "id": "dUx4FyhxLncs"
      },
      "source": [
        "# Convert to a numpy array from list so we can find minimums\r\n",
        "results_arr = np.asarray(results)"
      ],
      "execution_count": 13,
      "outputs": []
    },
    {
      "cell_type": "code",
      "metadata": {
        "id": "v0ifNxRaGRxl"
      },
      "source": [
        "# find the minimum\r\n",
        "t_min = np.where(results_arr == results_arr.min())"
      ],
      "execution_count": 14,
      "outputs": []
    },
    {
      "cell_type": "code",
      "metadata": {
        "id": "v8fPYJeWLIP_"
      },
      "source": [
        "# return the lowest price point\r\n",
        "min_price = results_arr.min()\r\n",
        "\r\n",
        "# return optimal purchase time\r\n",
        "opt_time = trials[t_min[0][0]]"
      ],
      "execution_count": 15,
      "outputs": []
    },
    {
      "cell_type": "markdown",
      "metadata": {
        "id": "DwVzQjso6c8Q"
      },
      "source": [
        "And the answer is..."
      ]
    },
    {
      "cell_type": "code",
      "metadata": {
        "colab": {
          "base_uri": "https://localhost:8080/"
        },
        "id": "ld9deOvfLMKl",
        "outputId": "cdee3157-f6d3-4de3-9245-c4db5c3ee99d"
      },
      "source": [
        "print(\"You should purchase {:.2f} hours ({:.1f}% of your length of stay) for ${:.2f} and expect to pay ${:.2f}.\".format(opt_time,(opt_time/stay)*100,parking_rate*opt_time,results_arr[t_min[0][0]]))"
      ],
      "execution_count": 16,
      "outputs": [
        {
          "output_type": "stream",
          "text": [
            "You should purchase 2.84 hours (94.8% of your length of stay) for $22.75 and expect to pay $23.41.\n"
          ],
          "name": "stdout"
        }
      ]
    },
    {
      "cell_type": "markdown",
      "metadata": {
        "id": "X-ZoReac_V4y"
      },
      "source": [
        "### Supporting Functions\r\n",
        "We'll put the code above into functions so we can make scenarios easier later."
      ]
    },
    {
      "cell_type": "code",
      "metadata": {
        "id": "6euRcpBR8q19"
      },
      "source": [
        "# Making a function for scenario testing later on\r\n",
        "def get_price_array(trials, stay, cop_rate, ticket_cost, parking_rate):\r\n",
        "  '''\r\n",
        "  Return the array of optimal results given\r\n",
        "  '''\r\n",
        "  # Calculate the expected cost for each trial\r\n",
        "  results = [get_expected_cost(stay=stay, cop_rate=cop_rate, purchased_time=t, ticket_cost=ticket_cost, parking_rate=parking_rate) for t in trials]\r\n",
        "\r\n",
        "  # Convert to a numpy array from list so we can find minimums\r\n",
        "  results_arr = np.asarray(results)\r\n",
        "\r\n",
        "  return results_arr"
      ],
      "execution_count": 17,
      "outputs": []
    },
    {
      "cell_type": "code",
      "metadata": {
        "id": "MsLFTJq19rNp"
      },
      "source": [
        "def get_lowest_expected_cost(results_arr):\r\n",
        "  '''\r\n",
        "  Returns the lowest $ in the trials \r\n",
        "  '''\r\n",
        "  return np.where(results_arr == results_arr.min())"
      ],
      "execution_count": 18,
      "outputs": []
    },
    {
      "cell_type": "code",
      "metadata": {
        "id": "cyvACK2t-EUG"
      },
      "source": [
        "def get_optimal_purchase_time(trials, opt_price):\r\n",
        "  '''\r\n",
        "  Returns the purchase time which yields the lowest $ in the trials\r\n",
        "  '''\r\n",
        "  return trials[opt_price]"
      ],
      "execution_count": 19,
      "outputs": []
    },
    {
      "cell_type": "markdown",
      "metadata": {
        "id": "N7d9wcaG6hAa"
      },
      "source": [
        "### Visualizing the Price Curve"
      ]
    },
    {
      "cell_type": "code",
      "metadata": {
        "colab": {
          "base_uri": "https://localhost:8080/",
          "height": 279
        },
        "id": "yljYt0niMEEE",
        "outputId": "af965e39-3bd0-4414-d78b-bfa39f5920fb"
      },
      "source": [
        "import matplotlib.ticker as ticker\r\n",
        "\r\n",
        "fig, ax = plt.subplots()\r\n",
        "\r\n",
        "formatter = ticker.FormatStrFormatter('$%1.f')\r\n",
        "ax.yaxis.set_major_formatter(formatter)\r\n",
        "\r\n",
        "ax.set_xlabel('purchase time (hrs)')\r\n",
        "ax.set_ylabel('expected cost')\r\n",
        "ax.plot(trials, results)\r\n",
        "\r\n",
        "ax.scatter(opt_time,min_price, color='r', alpha=0.5)\r\n",
        "plt.show()"
      ],
      "execution_count": 20,
      "outputs": [
        {
          "output_type": "display_data",
          "data": {
            "image/png": "[encoded data removed]",
            "text/plain": [
              "<Figure size 432x288 with 1 Axes>"
            ]
          },
          "metadata": {
            "tags": [],
            "needs_background": "light"
          }
        }
      ]
    },
    {
      "cell_type": "markdown",
      "metadata": {
        "id": "X0fcQWuN7l1H"
      },
      "source": [
        "## Scenarios\r\n",
        "Let's try out some scenarios and find the optimal price."
      ]
    },
    {
      "cell_type": "markdown",
      "metadata": {
        "id": "xET9zd0078B_"
      },
      "source": [
        "### Scenario 1: 1-hour visit\r\n",
        "Here, we will look a reasonable parameters for a one hour visit "
      ]
    },
    {
      "cell_type": "code",
      "metadata": {
        "id": "_hT4SQwC8QHt"
      },
      "source": [
        "# Problem parameters\r\n",
        "stay = 1 # time (in hrs) you plan on staying\r\n",
        "cop_rate = 2 # arrival rate of parking police (one every x hours)\r\n",
        "ticket_cost = 60 # dollars\r\n",
        "parking_rate = 8 # dollars per hour"
      ],
      "execution_count": 21,
      "outputs": []
    },
    {
      "cell_type": "markdown",
      "metadata": {
        "id": "ko2ggkiBHsOr"
      },
      "source": [
        "#### Code"
      ]
    },
    {
      "cell_type": "code",
      "metadata": {
        "id": "Q9cwn5kV_n0C"
      },
      "source": [
        "# Create trials\r\n",
        "trials = np.linspace(0,stay,num=10000)"
      ],
      "execution_count": 22,
      "outputs": []
    },
    {
      "cell_type": "code",
      "metadata": {
        "id": "KDoaK32f_s6U"
      },
      "source": [
        "# Evaluate price model\r\n",
        "results = get_price_array(trials=trials, stay=stay, \r\n",
        "                cop_rate=cop_rate, \r\n",
        "                ticket_cost=ticket_cost, \r\n",
        "                parking_rate=parking_rate)"
      ],
      "execution_count": 23,
      "outputs": []
    },
    {
      "cell_type": "code",
      "metadata": {
        "id": "4pNL_cJpAMBV"
      },
      "source": [
        "# Find the lowest expected cost\r\n",
        "opt_cost = get_lowest_expected_cost(results)"
      ],
      "execution_count": 24,
      "outputs": []
    },
    {
      "cell_type": "code",
      "metadata": {
        "id": "mraA5gZtAxJ3"
      },
      "source": [
        "# Find the optimal purchase hours\r\n",
        "t_min = np.where(results == results.min())"
      ],
      "execution_count": 35,
      "outputs": []
    },
    {
      "cell_type": "code",
      "metadata": {
        "id": "cnwr1FJBAxJ4"
      },
      "source": [
        "# return the lowest price point\r\n",
        "min_price = results.min()\r\n",
        "\r\n",
        "# return optimal purchase time\r\n",
        "opt_time = trials[t_min[0][0]]"
      ],
      "execution_count": 36,
      "outputs": []
    },
    {
      "cell_type": "markdown",
      "metadata": {
        "id": "5UWFqWGKCz5t"
      },
      "source": [
        "#### Answer:"
      ]
    },
    {
      "cell_type": "code",
      "metadata": {
        "colab": {
          "base_uri": "https://localhost:8080/",
          "height": 279
        },
        "id": "_G_9ocGRCJXZ",
        "outputId": "aebbaeaa-48a1-4f5c-8a37-9366d3536b15"
      },
      "source": [
        "fig, ax = plt.subplots()\r\n",
        "\r\n",
        "formatter = ticker.FormatStrFormatter('$%1.2f')\r\n",
        "ax.yaxis.set_major_formatter(formatter)\r\n",
        "\r\n",
        "ax.set_xlabel('purchase time (hrs)')\r\n",
        "ax.set_ylabel('expected cost')\r\n",
        "ax.plot(trials, results)\r\n",
        "\r\n",
        "ax.scatter(opt_time, min_price, color='r', alpha=0.5)\r\n",
        "plt.show()"
      ],
      "execution_count": 39,
      "outputs": [
        {
          "output_type": "display_data",
          "data": {
            "image/png": "[encoded data removed]",
            "text/plain": [
              "<Figure size 432x288 with 1 Axes>"
            ]
          },
          "metadata": {
            "tags": [],
            "needs_background": "light"
          }
        }
      ]
    },
    {
      "cell_type": "code",
      "metadata": {
        "colab": {
          "base_uri": "https://localhost:8080/"
        },
        "id": "gNR5IaJ2CfzT",
        "outputId": "cdc8ce9e-d705-4bd7-a060-570ae1c1c35d"
      },
      "source": [
        "print(\"You should purchase {:.2f} hours ({:.1f}% of your length of stay) for ${:.2f} and expect to pay ${:.2f}.\".format(opt_time,(opt_time/stay)*100,parking_rate*opt_time,results[t_min[0][0]]))"
      ],
      "execution_count": 40,
      "outputs": [
        {
          "output_type": "stream",
          "text": [
            "You should purchase 0.25 hours (24.8% of your length of stay) for $1.98 and expect to pay $4.43.\n"
          ],
          "name": "stdout"
        }
      ]
    },
    {
      "cell_type": "markdown",
      "metadata": {
        "id": "ekLZkW-MDM0v"
      },
      "source": [
        "### Scenario 2: Overnight Visit with Diligent Parking Officers\r\n",
        "Think of this as going out one night, parking on the street and coming back 8 hours later to retrieve your car."
      ]
    },
    {
      "cell_type": "code",
      "metadata": {
        "id": "W_mGggCeDz86"
      },
      "source": [
        "# Problem parameters\r\n",
        "stay = 8 # time (in hrs) you plan on staying\r\n",
        "cop_rate = 4 # arrival rate of parking police (one every x hours)\r\n",
        "ticket_cost = 60 # dollars\r\n",
        "parking_rate = 8 # dollars per hour"
      ],
      "execution_count": 41,
      "outputs": []
    },
    {
      "cell_type": "markdown",
      "metadata": {
        "id": "hbZc6vIFHngC"
      },
      "source": [
        "#### Code"
      ]
    },
    {
      "cell_type": "code",
      "metadata": {
        "id": "I7RGJywRDz9A"
      },
      "source": [
        "# Create trials\r\n",
        "trials = np.linspace(0,stay,num=10000)"
      ],
      "execution_count": 42,
      "outputs": []
    },
    {
      "cell_type": "code",
      "metadata": {
        "id": "C6tubFYiDz9A"
      },
      "source": [
        "# Evaluate price model\r\n",
        "results = get_price_array(trials=trials, stay=stay, \r\n",
        "                cop_rate=cop_rate, \r\n",
        "                ticket_cost=ticket_cost, \r\n",
        "                parking_rate=parking_rate)"
      ],
      "execution_count": 43,
      "outputs": []
    },
    {
      "cell_type": "code",
      "metadata": {
        "id": "51AjvebfDz9A"
      },
      "source": [
        "# Find the lowest expected cost\r\n",
        "opt_cost = get_lowest_expected_cost(results)"
      ],
      "execution_count": 44,
      "outputs": []
    },
    {
      "cell_type": "code",
      "metadata": {
        "id": "sHZZW3LhDz9A"
      },
      "source": [
        "# Find the optimal purchase hours\r\n",
        "t_min = np.where(results == results.min())"
      ],
      "execution_count": 45,
      "outputs": []
    },
    {
      "cell_type": "code",
      "metadata": {
        "id": "PTl5oLj7Dz9A"
      },
      "source": [
        "# return the lowest price point\r\n",
        "min_price = results.min()\r\n",
        "\r\n",
        "# return optimal purchase time\r\n",
        "opt_time = trials[t_min[0][0]]"
      ],
      "execution_count": 46,
      "outputs": []
    },
    {
      "cell_type": "markdown",
      "metadata": {
        "id": "Ebqq5WnTDz9C"
      },
      "source": [
        "#### Answer:"
      ]
    },
    {
      "cell_type": "code",
      "metadata": {
        "colab": {
          "base_uri": "https://localhost:8080/",
          "height": 279
        },
        "id": "73O35RJPDz9B",
        "outputId": "724e95e2-cdf7-402a-c7fe-91d77255f20d"
      },
      "source": [
        "fig, ax = plt.subplots()\r\n",
        "\r\n",
        "formatter = ticker.FormatStrFormatter('$%1.2f')\r\n",
        "ax.yaxis.set_major_formatter(formatter)\r\n",
        "\r\n",
        "ax.set_xlabel('purchase time (hrs)')\r\n",
        "ax.set_ylabel('expected cost')\r\n",
        "ax.plot(trials, results)\r\n",
        "\r\n",
        "ax.scatter(opt_time, min_price, color='r', alpha=0.5)\r\n",
        "plt.show()"
      ],
      "execution_count": 48,
      "outputs": [
        {
          "output_type": "display_data",
          "data": {
            "image/png": "[encoded data removed]",
            "text/plain": [
              "<Figure size 432x288 with 1 Axes>"
            ]
          },
          "metadata": {
            "tags": [],
            "needs_background": "light"
          }
        }
      ]
    },
    {
      "cell_type": "code",
      "metadata": {
        "colab": {
          "base_uri": "https://localhost:8080/"
        },
        "id": "6gZl9DnnDz9C",
        "outputId": "beb9745d-8cb5-4215-9f50-f86a9d66bd6d"
      },
      "source": [
        "print(\"You should purchase {:.2f} hours ({:.1f}% of your length of stay) for ${:.2f} and expect to pay ${:.2f}.\".format(opt_time,(opt_time/stay)*100,parking_rate*opt_time,results[t_min[0][0]]))"
      ],
      "execution_count": 49,
      "outputs": [
        {
          "output_type": "stream",
          "text": [
            "You should purchase 5.50 hours (68.8% of your length of stay) for $44.02 and expect to pay $50.53.\n"
          ],
          "name": "stdout"
        }
      ]
    },
    {
      "cell_type": "markdown",
      "metadata": {
        "id": "8Gc5b632EG9s"
      },
      "source": [
        "What we notice here is that there's an inflection point around 2 hours -- up to this point, the chances are low that the officers will come by and you're probably good. But parking time begins to add up and at the lowest point, we've found the perfect balance. We NEVER would pay the full amount in this case because the `stay` * `parking_rate` > `ticket_cost`. "
      ]
    },
    {
      "cell_type": "markdown",
      "metadata": {
        "id": "cSxs8iMLDcz9"
      },
      "source": [
        "### Scenario 3: Really Expensive Tickets & Very Diligent Parking Officers\r\n",
        "\r\n",
        "Like parking at the CRC...\r\n"
      ]
    },
    {
      "cell_type": "markdown",
      "metadata": {
        "id": "pZFS8HYiC7Mf"
      },
      "source": [
        ""
      ]
    },
    {
      "cell_type": "code",
      "metadata": {
        "id": "wBYUZODzFT5y"
      },
      "source": [
        "# Problem parameters\r\n",
        "stay = 3 # time (in hrs) you plan on staying\r\n",
        "cop_rate = 1 # arrival rate of parking police (one every x hours)\r\n",
        "ticket_cost = 10000 # dollars\r\n",
        "parking_rate = 8 # dollars per hour"
      ],
      "execution_count": 101,
      "outputs": []
    },
    {
      "cell_type": "markdown",
      "metadata": {
        "id": "Yp5wUbXHHLWL"
      },
      "source": [
        "#### Code"
      ]
    },
    {
      "cell_type": "code",
      "metadata": {
        "id": "N-kY7pXRFT55"
      },
      "source": [
        "# Create trials\r\n",
        "trials = np.linspace(0,stay,num=10000)"
      ],
      "execution_count": 102,
      "outputs": []
    },
    {
      "cell_type": "code",
      "metadata": {
        "id": "OeL0gb19FT55"
      },
      "source": [
        "# Evaluate price model\r\n",
        "results = get_price_array(trials=trials, stay=stay, \r\n",
        "                cop_rate=cop_rate, \r\n",
        "                ticket_cost=ticket_cost, \r\n",
        "                parking_rate=parking_rate)"
      ],
      "execution_count": 103,
      "outputs": []
    },
    {
      "cell_type": "code",
      "metadata": {
        "id": "fGKghTBfFT56"
      },
      "source": [
        "# Find the lowest expected cost\r\n",
        "opt_cost = get_lowest_expected_cost(results)"
      ],
      "execution_count": 104,
      "outputs": []
    },
    {
      "cell_type": "code",
      "metadata": {
        "id": "7DhSUOqZFT56"
      },
      "source": [
        "# Find the optimal purchase hours\r\n",
        "t_min = np.where(results == results.min())"
      ],
      "execution_count": 105,
      "outputs": []
    },
    {
      "cell_type": "code",
      "metadata": {
        "id": "7YoRaODdFT56"
      },
      "source": [
        "# return the lowest price point\r\n",
        "min_price = results.min()\r\n",
        "\r\n",
        "# return optimal purchase time\r\n",
        "opt_time = trials[t_min[0][0]]"
      ],
      "execution_count": 106,
      "outputs": []
    },
    {
      "cell_type": "markdown",
      "metadata": {
        "id": "NzteN6ijFT57"
      },
      "source": [
        "#### Answer:"
      ]
    },
    {
      "cell_type": "code",
      "metadata": {
        "colab": {
          "base_uri": "https://localhost:8080/",
          "height": 279
        },
        "id": "34vNJQjeFT56",
        "outputId": "279d4bd8-eb79-420d-970c-72ec916ded9a"
      },
      "source": [
        "fig, ax = plt.subplots()\r\n",
        "\r\n",
        "formatter = ticker.FormatStrFormatter('$%1.2f')\r\n",
        "ax.yaxis.set_major_formatter(formatter)\r\n",
        "\r\n",
        "ax.set_xlabel('purchase time (hrs)')\r\n",
        "ax.set_ylabel('expected cost')\r\n",
        "ax.plot(trials, results)\r\n",
        "\r\n",
        "ax.scatter(opt_time, min_price, color='r', alpha=0.5)\r\n",
        "plt.show()"
      ],
      "execution_count": 114,
      "outputs": [
        {
          "output_type": "display_data",
          "data": {
            "image/png": "[encoded data removed]",
            "text/plain": [
              "<Figure size 432x288 with 1 Axes>"
            ]
          },
          "metadata": {
            "tags": [],
            "needs_background": "light"
          }
        }
      ]
    },
    {
      "cell_type": "code",
      "metadata": {
        "colab": {
          "base_uri": "https://localhost:8080/"
        },
        "id": "wsNyVRvDFT57",
        "outputId": "58202685-236a-4292-878c-c73f8fe59af2"
      },
      "source": [
        "plt.show()\r\n",
        "print(\"You should purchase {:.6f} hours ({:.2f}% of your length of stay) for ${:.2f} and expect to pay ${:.2f}.\".format(opt_time,(opt_time/stay)*100,parking_rate*opt_time,results[t_min[0][0]]))"
      ],
      "execution_count": 113,
      "outputs": [
        {
          "output_type": "stream",
          "text": [
            "You should purchase 2.999100 hours (99.97% of your length of stay) for $23.99 and expect to pay $24.00.\n"
          ],
          "name": "stdout"
        }
      ]
    },
    {
      "cell_type": "markdown",
      "metadata": {
        "id": "O2qJwKNwF5t7"
      },
      "source": [
        "Even here, we shouldn't pay the full price. This makes sense because as `purchase_time` -> `stay`, the lower the chances we get a ticket. Even with a $10,000 ticket, it still makes sense to leave some time (albeit 3.24 seconds)."
      ]
    },
    {
      "cell_type": "markdown",
      "metadata": {
        "id": "0C9Pcdyx8Q-7"
      },
      "source": [
        "## Widget (coming soon)"
      ]
    },
    {
      "cell_type": "code",
      "metadata": {
        "id": "4NqTyl2MShNl"
      },
      "source": [
        "%matplotlib notebook\r\n",
        "%matplotlib inline\r\n",
        "# Interactive widget\r\n",
        "w_stay = IntSlider()\r\n",
        "display(w_stay)\r\n",
        "\r\n",
        "#@widgets.interact(w_stay)\r\n",
        "def update():\r\n",
        "  results = [get_expected_cost(stay=w_stay.value, \r\n",
        "                               cop_rate=cop_rate, \r\n",
        "                               purchased_time=t, \r\n",
        "                               ticket_cost=ticket_cost, \r\n",
        "                               parking_rate=parking_rate) for t in trials]\r\n",
        "  [l.remove() for l in ax.lines]\r\n",
        "  ax.plot(trials, results)\r\n",
        "  plt.show()\r\n",
        "  print(\"success\")\r\n",
        "\r\n",
        "w_stay.observe(update)"
      ],
      "execution_count": null,
      "outputs": []
    },
    {
      "cell_type": "code",
      "metadata": {
        "id": "j3KCCjp1SrAp"
      },
      "source": [
        "w_stay = FloatSlider(\r\n",
        "    value=3,\r\n",
        "    min=0,\r\n",
        "    max=24,\r\n",
        "    step=0.1,\r\n",
        "    description='Length of stay (hrs):',\r\n",
        "    disabled=False,\r\n",
        "    continuous_update=False,\r\n",
        "    readout_format='.1f',\r\n",
        ")"
      ],
      "execution_count": 38,
      "outputs": []
    },
    {
      "cell_type": "code",
      "metadata": {
        "colab": {
          "base_uri": "https://localhost:8080/",
          "height": 49,
          "referenced_widgets": [
            "3431296b355a4929b7ab29fec8aec391",
            "9eeefd3d38954b51abf399d777b3ff4c",
            "4c8aa5439d8045ddbffb18872dfe3a8a"
          ]
        },
        "id": "sqq6YQ7UZyPJ",
        "outputId": "c450d55d-8a1e-4f8b-f38f-e953068d988f"
      },
      "source": [
        "w_stay"
      ],
      "execution_count": 39,
      "outputs": [
        {
          "output_type": "display_data",
          "data": {
            "application/vnd.jupyter.widget-view+json": {
              "model_id": "3431296b355a4929b7ab29fec8aec391",
              "version_minor": 0,
              "version_major": 2
            },
            "text/plain": [
              "FloatSlider(value=3.0, continuous_update=False, description='Length of stay (hrs):', max=24.0, readout_format=…"
            ]
          },
          "metadata": {
            "tags": []
          }
        }
      ]
    }
  ]
}